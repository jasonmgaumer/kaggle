{
 "cells": [
  {
   "cell_type": "code",
   "execution_count": 1,
   "id": "7985149c",
   "metadata": {},
   "outputs": [],
   "source": [
    "import pandas as pd"
   ]
  },
  {
   "cell_type": "code",
   "execution_count": 2,
   "id": "7691f759",
   "metadata": {},
   "outputs": [],
   "source": [
    "train = pd.read_csv(r\"C:\\Users\\gaume\\Documents\\kaggle\\Titanic\\data\\train.csv\")"
   ]
  },
  {
   "cell_type": "code",
   "execution_count": 3,
   "id": "8443a6e6",
   "metadata": {},
   "outputs": [],
   "source": [
    "test = pd.read_csv(r\"C:\\Users\\gaume\\Documents\\kaggle\\Titanic\\data\\test.csv\")"
   ]
  },
  {
   "cell_type": "code",
   "execution_count": 4,
   "id": "4f4a0150",
   "metadata": {},
   "outputs": [],
   "source": [
    "gender_submission = pd.read_csv(r\"C:\\Users\\gaume\\Documents\\kaggle\\Titanic\\data\\gender_submission.csv\")"
   ]
  },
  {
   "cell_type": "code",
   "execution_count": 5,
   "id": "0930da3b",
   "metadata": {},
   "outputs": [],
   "source": [
    "# gender_submission"
   ]
  },
  {
   "cell_type": "code",
   "execution_count": 6,
   "id": "622da99f",
   "metadata": {},
   "outputs": [],
   "source": [
    "# train"
   ]
  },
  {
   "cell_type": "code",
   "execution_count": 7,
   "id": "b554271b",
   "metadata": {},
   "outputs": [],
   "source": [
    "# test"
   ]
  },
  {
   "cell_type": "code",
   "execution_count": 8,
   "id": "9c16726d",
   "metadata": {},
   "outputs": [],
   "source": [
    "# lower case column names\n",
    "train.columns = train.columns.str.lower()\n",
    "test.columns = test.columns.str.lower()"
   ]
  },
  {
   "cell_type": "code",
   "execution_count": 37,
   "id": "44bed98d",
   "metadata": {},
   "outputs": [],
   "source": [
    "# train"
   ]
  },
  {
   "cell_type": "code",
   "execution_count": 10,
   "id": "50add4ae",
   "metadata": {},
   "outputs": [],
   "source": [
    "train[[\"fist_name\", \"rest_name\"]] = train.name.str.split(\",\", expand = True)"
   ]
  },
  {
   "cell_type": "code",
   "execution_count": 11,
   "id": "853bdea9",
   "metadata": {},
   "outputs": [],
   "source": [
    "train[[\"title\", \"last_name\", \"other\"]]=train[\"rest_name\"].str.split(\".\", expand = True)"
   ]
  },
  {
   "cell_type": "code",
   "execution_count": 38,
   "id": "d9897d1f",
   "metadata": {},
   "outputs": [],
   "source": [
    "# train[[\"title\", \"last_name\", \"other\"]]"
   ]
  },
  {
   "cell_type": "code",
   "execution_count": 39,
   "id": "8fc9bd26",
   "metadata": {},
   "outputs": [],
   "source": [
    "# train[[\"fist_name\", \"title\", \"last_name\", \"other\"]]"
   ]
  },
  {
   "cell_type": "code",
   "execution_count": 51,
   "id": "86975b22",
   "metadata": {},
   "outputs": [
    {
     "data": {
      "text/html": [
       "<div>\n",
       "<style scoped>\n",
       "    .dataframe tbody tr th:only-of-type {\n",
       "        vertical-align: middle;\n",
       "    }\n",
       "\n",
       "    .dataframe tbody tr th {\n",
       "        vertical-align: top;\n",
       "    }\n",
       "\n",
       "    .dataframe thead th {\n",
       "        text-align: right;\n",
       "    }\n",
       "</style>\n",
       "<table border=\"1\" class=\"dataframe\">\n",
       "  <thead>\n",
       "    <tr style=\"text-align: right;\">\n",
       "      <th></th>\n",
       "      <th>count</th>\n",
       "      <th>mean</th>\n",
       "      <th>std</th>\n",
       "      <th>min</th>\n",
       "      <th>25%</th>\n",
       "      <th>50%</th>\n",
       "      <th>75%</th>\n",
       "      <th>max</th>\n",
       "    </tr>\n",
       "    <tr>\n",
       "      <th>sex</th>\n",
       "      <th></th>\n",
       "      <th></th>\n",
       "      <th></th>\n",
       "      <th></th>\n",
       "      <th></th>\n",
       "      <th></th>\n",
       "      <th></th>\n",
       "      <th></th>\n",
       "    </tr>\n",
       "  </thead>\n",
       "  <tbody>\n",
       "    <tr>\n",
       "      <th>female</th>\n",
       "      <td>314.0</td>\n",
       "      <td>0.742038</td>\n",
       "      <td>0.438211</td>\n",
       "      <td>0.0</td>\n",
       "      <td>0.0</td>\n",
       "      <td>1.0</td>\n",
       "      <td>1.0</td>\n",
       "      <td>1.0</td>\n",
       "    </tr>\n",
       "    <tr>\n",
       "      <th>male</th>\n",
       "      <td>577.0</td>\n",
       "      <td>0.188908</td>\n",
       "      <td>0.391775</td>\n",
       "      <td>0.0</td>\n",
       "      <td>0.0</td>\n",
       "      <td>0.0</td>\n",
       "      <td>0.0</td>\n",
       "      <td>1.0</td>\n",
       "    </tr>\n",
       "  </tbody>\n",
       "</table>\n",
       "</div>"
      ],
      "text/plain": [
       "        count      mean       std  min  25%  50%  75%  max\n",
       "sex                                                       \n",
       "female  314.0  0.742038  0.438211  0.0  0.0  1.0  1.0  1.0\n",
       "male    577.0  0.188908  0.391775  0.0  0.0  0.0  0.0  1.0"
      ]
     },
     "execution_count": 51,
     "metadata": {},
     "output_type": "execute_result"
    }
   ],
   "source": [
    "# look at the servival rate for each gender\n",
    "train.groupby(\"sex\")[\"survived\"].describe()"
   ]
  },
  {
   "cell_type": "code",
   "execution_count": 14,
   "id": "ac5b29d7",
   "metadata": {},
   "outputs": [],
   "source": [
    "# strip spaces from title\n",
    "train[\"title\"] = train[\"title\"].str.strip()"
   ]
  },
  {
   "cell_type": "code",
   "execution_count": 15,
   "id": "c62ab4b1",
   "metadata": {},
   "outputs": [
    {
     "data": {
      "text/plain": [
       "Mr              517\n",
       "Miss            182\n",
       "Mrs             125\n",
       "Master           40\n",
       "Dr                7\n",
       "Rev               6\n",
       "Col               2\n",
       "Major             2\n",
       "Mlle              2\n",
       "Mme               1\n",
       "Jonkheer          1\n",
       "the Countess      1\n",
       "Ms                1\n",
       "Capt              1\n",
       "Sir               1\n",
       "Lady              1\n",
       "Don               1\n",
       "Name: title, dtype: int64"
      ]
     },
     "execution_count": 15,
     "metadata": {},
     "output_type": "execute_result"
    }
   ],
   "source": [
    "train[\"title\"].value_counts()"
   ]
  },
  {
   "cell_type": "code",
   "execution_count": 45,
   "id": "d23a9a91",
   "metadata": {},
   "outputs": [],
   "source": [
    "train[\"title\"] = train[\"title\"].replace([\"Dr\", \"Rev\", \"Major\", \"Mlle\", \"Col\", \"Capt\", \"Mme\", \"Sir\", \"Ms\", \"Jonkheer\", \"the Countess\", \"Don\", \"Lady\"],\"other\")#.value_counts()"
   ]
  },
  {
   "cell_type": "code",
   "execution_count": 47,
   "id": "3be7c964",
   "metadata": {},
   "outputs": [
    {
     "data": {
      "text/html": [
       "<div>\n",
       "<style scoped>\n",
       "    .dataframe tbody tr th:only-of-type {\n",
       "        vertical-align: middle;\n",
       "    }\n",
       "\n",
       "    .dataframe tbody tr th {\n",
       "        vertical-align: top;\n",
       "    }\n",
       "\n",
       "    .dataframe thead th {\n",
       "        text-align: right;\n",
       "    }\n",
       "</style>\n",
       "<table border=\"1\" class=\"dataframe\">\n",
       "  <thead>\n",
       "    <tr style=\"text-align: right;\">\n",
       "      <th></th>\n",
       "      <th>count</th>\n",
       "      <th>mean</th>\n",
       "      <th>std</th>\n",
       "      <th>min</th>\n",
       "      <th>25%</th>\n",
       "      <th>50%</th>\n",
       "      <th>75%</th>\n",
       "      <th>max</th>\n",
       "    </tr>\n",
       "    <tr>\n",
       "      <th>title</th>\n",
       "      <th></th>\n",
       "      <th></th>\n",
       "      <th></th>\n",
       "      <th></th>\n",
       "      <th></th>\n",
       "      <th></th>\n",
       "      <th></th>\n",
       "      <th></th>\n",
       "    </tr>\n",
       "  </thead>\n",
       "  <tbody>\n",
       "    <tr>\n",
       "      <th>Master</th>\n",
       "      <td>40.0</td>\n",
       "      <td>0.575000</td>\n",
       "      <td>0.500641</td>\n",
       "      <td>0.0</td>\n",
       "      <td>0.0</td>\n",
       "      <td>1.0</td>\n",
       "      <td>1.0</td>\n",
       "      <td>1.0</td>\n",
       "    </tr>\n",
       "    <tr>\n",
       "      <th>Miss</th>\n",
       "      <td>182.0</td>\n",
       "      <td>0.697802</td>\n",
       "      <td>0.460477</td>\n",
       "      <td>0.0</td>\n",
       "      <td>0.0</td>\n",
       "      <td>1.0</td>\n",
       "      <td>1.0</td>\n",
       "      <td>1.0</td>\n",
       "    </tr>\n",
       "    <tr>\n",
       "      <th>Mr</th>\n",
       "      <td>517.0</td>\n",
       "      <td>0.156673</td>\n",
       "      <td>0.363844</td>\n",
       "      <td>0.0</td>\n",
       "      <td>0.0</td>\n",
       "      <td>0.0</td>\n",
       "      <td>0.0</td>\n",
       "      <td>1.0</td>\n",
       "    </tr>\n",
       "    <tr>\n",
       "      <th>Mrs</th>\n",
       "      <td>125.0</td>\n",
       "      <td>0.792000</td>\n",
       "      <td>0.407510</td>\n",
       "      <td>0.0</td>\n",
       "      <td>1.0</td>\n",
       "      <td>1.0</td>\n",
       "      <td>1.0</td>\n",
       "      <td>1.0</td>\n",
       "    </tr>\n",
       "    <tr>\n",
       "      <th>other</th>\n",
       "      <td>27.0</td>\n",
       "      <td>0.444444</td>\n",
       "      <td>0.506370</td>\n",
       "      <td>0.0</td>\n",
       "      <td>0.0</td>\n",
       "      <td>0.0</td>\n",
       "      <td>1.0</td>\n",
       "      <td>1.0</td>\n",
       "    </tr>\n",
       "  </tbody>\n",
       "</table>\n",
       "</div>"
      ],
      "text/plain": [
       "        count      mean       std  min  25%  50%  75%  max\n",
       "title                                                     \n",
       "Master   40.0  0.575000  0.500641  0.0  0.0  1.0  1.0  1.0\n",
       "Miss    182.0  0.697802  0.460477  0.0  0.0  1.0  1.0  1.0\n",
       "Mr      517.0  0.156673  0.363844  0.0  0.0  0.0  0.0  1.0\n",
       "Mrs     125.0  0.792000  0.407510  0.0  1.0  1.0  1.0  1.0\n",
       "other    27.0  0.444444  0.506370  0.0  0.0  0.0  1.0  1.0"
      ]
     },
     "execution_count": 47,
     "metadata": {},
     "output_type": "execute_result"
    }
   ],
   "source": [
    "# look at the servival rate for each title\n",
    "train.groupby(\"title\")[\"survived\"].describe()"
   ]
  },
  {
   "cell_type": "code",
   "execution_count": 18,
   "id": "43e5376b",
   "metadata": {},
   "outputs": [],
   "source": [
    "train[\"age_group\"] = pd.cut(x=train[\"age\"], bins = [0,18,30,40,50,65,120])"
   ]
  },
  {
   "cell_type": "code",
   "execution_count": 19,
   "id": "e7635869",
   "metadata": {},
   "outputs": [
    {
     "data": {
      "text/plain": [
       "(18, 30]     270\n",
       "(30, 40]     155\n",
       "(0, 18]      139\n",
       "(40, 50]      86\n",
       "(50, 65]      56\n",
       "(65, 120]      8\n",
       "Name: age_group, dtype: int64"
      ]
     },
     "execution_count": 19,
     "metadata": {},
     "output_type": "execute_result"
    }
   ],
   "source": [
    "train[\"age_group\"].value_counts()"
   ]
  },
  {
   "cell_type": "code",
   "execution_count": 57,
   "id": "e7803fcf",
   "metadata": {},
   "outputs": [],
   "source": [
    "train[\"age_group_number\"] = train[\"age_group\"].apply(lambda x: str(x)).replace([\"(0, 18]\", \"(18, 30]\", \"(30, 40]\", \"(40, 50]\", \"(50, 65]\", \"(65, 120]\"],[9, 24, 35, 45, 58, 73])# value_counts()"
   ]
  },
  {
   "cell_type": "code",
   "execution_count": 58,
   "id": "63b80307",
   "metadata": {},
   "outputs": [],
   "source": [
    "train[\"age_group_str\"] = train[\"age_group\"].apply(lambda x: str(x)).replace([\"(0, 18]\", \"(18, 30]\", \"(30, 40]\", \"(40, 50]\", \"(50, 65]\", \"(65, 120]\"],[\"0-18\", \"18-30\", \"30-40\", \"40-50\", \"50-65\", \"65-80\"])# value_counts()"
   ]
  },
  {
   "cell_type": "code",
   "execution_count": 60,
   "id": "41ffc2b3",
   "metadata": {},
   "outputs": [
    {
     "data": {
      "text/html": [
       "<div>\n",
       "<style scoped>\n",
       "    .dataframe tbody tr th:only-of-type {\n",
       "        vertical-align: middle;\n",
       "    }\n",
       "\n",
       "    .dataframe tbody tr th {\n",
       "        vertical-align: top;\n",
       "    }\n",
       "\n",
       "    .dataframe thead th {\n",
       "        text-align: right;\n",
       "    }\n",
       "</style>\n",
       "<table border=\"1\" class=\"dataframe\">\n",
       "  <thead>\n",
       "    <tr style=\"text-align: right;\">\n",
       "      <th></th>\n",
       "      <th>count</th>\n",
       "      <th>mean</th>\n",
       "      <th>std</th>\n",
       "      <th>min</th>\n",
       "      <th>25%</th>\n",
       "      <th>50%</th>\n",
       "      <th>75%</th>\n",
       "      <th>max</th>\n",
       "    </tr>\n",
       "    <tr>\n",
       "      <th>age_group_str</th>\n",
       "      <th></th>\n",
       "      <th></th>\n",
       "      <th></th>\n",
       "      <th></th>\n",
       "      <th></th>\n",
       "      <th></th>\n",
       "      <th></th>\n",
       "      <th></th>\n",
       "    </tr>\n",
       "  </thead>\n",
       "  <tbody>\n",
       "    <tr>\n",
       "      <th>0-18</th>\n",
       "      <td>139.0</td>\n",
       "      <td>0.503597</td>\n",
       "      <td>0.501795</td>\n",
       "      <td>0.0</td>\n",
       "      <td>0.0</td>\n",
       "      <td>1.0</td>\n",
       "      <td>1.0</td>\n",
       "      <td>1.0</td>\n",
       "    </tr>\n",
       "    <tr>\n",
       "      <th>18-30</th>\n",
       "      <td>270.0</td>\n",
       "      <td>0.355556</td>\n",
       "      <td>0.479570</td>\n",
       "      <td>0.0</td>\n",
       "      <td>0.0</td>\n",
       "      <td>0.0</td>\n",
       "      <td>1.0</td>\n",
       "      <td>1.0</td>\n",
       "    </tr>\n",
       "    <tr>\n",
       "      <th>30-40</th>\n",
       "      <td>155.0</td>\n",
       "      <td>0.445161</td>\n",
       "      <td>0.498595</td>\n",
       "      <td>0.0</td>\n",
       "      <td>0.0</td>\n",
       "      <td>0.0</td>\n",
       "      <td>1.0</td>\n",
       "      <td>1.0</td>\n",
       "    </tr>\n",
       "    <tr>\n",
       "      <th>40-50</th>\n",
       "      <td>86.0</td>\n",
       "      <td>0.383721</td>\n",
       "      <td>0.489143</td>\n",
       "      <td>0.0</td>\n",
       "      <td>0.0</td>\n",
       "      <td>0.0</td>\n",
       "      <td>1.0</td>\n",
       "      <td>1.0</td>\n",
       "    </tr>\n",
       "    <tr>\n",
       "      <th>50-65</th>\n",
       "      <td>56.0</td>\n",
       "      <td>0.375000</td>\n",
       "      <td>0.488504</td>\n",
       "      <td>0.0</td>\n",
       "      <td>0.0</td>\n",
       "      <td>0.0</td>\n",
       "      <td>1.0</td>\n",
       "      <td>1.0</td>\n",
       "    </tr>\n",
       "    <tr>\n",
       "      <th>65-80</th>\n",
       "      <td>8.0</td>\n",
       "      <td>0.125000</td>\n",
       "      <td>0.353553</td>\n",
       "      <td>0.0</td>\n",
       "      <td>0.0</td>\n",
       "      <td>0.0</td>\n",
       "      <td>0.0</td>\n",
       "      <td>1.0</td>\n",
       "    </tr>\n",
       "  </tbody>\n",
       "</table>\n",
       "</div>"
      ],
      "text/plain": [
       "               count      mean       std  min  25%  50%  75%  max\n",
       "age_group_str                                                    \n",
       "0-18           139.0  0.503597  0.501795  0.0  0.0  1.0  1.0  1.0\n",
       "18-30          270.0  0.355556  0.479570  0.0  0.0  0.0  1.0  1.0\n",
       "30-40          155.0  0.445161  0.498595  0.0  0.0  0.0  1.0  1.0\n",
       "40-50           86.0  0.383721  0.489143  0.0  0.0  0.0  1.0  1.0\n",
       "50-65           56.0  0.375000  0.488504  0.0  0.0  0.0  1.0  1.0\n",
       "65-80            8.0  0.125000  0.353553  0.0  0.0  0.0  0.0  1.0"
      ]
     },
     "execution_count": 60,
     "metadata": {},
     "output_type": "execute_result"
    }
   ],
   "source": [
    "# look at the servival rate for each age groupb\n",
    "train.groupby(\"age_group_str\")[\"survived\"].describe()"
   ]
  },
  {
   "cell_type": "code",
   "execution_count": 25,
   "id": "87df466a",
   "metadata": {},
   "outputs": [
    {
     "data": {
      "text/plain": [
       "0    608\n",
       "1    209\n",
       "2     28\n",
       "4     18\n",
       "3     16\n",
       "8      7\n",
       "5      5\n",
       "Name: sibsp, dtype: int64"
      ]
     },
     "execution_count": 25,
     "metadata": {},
     "output_type": "execute_result"
    }
   ],
   "source": [
    "train[\"sibsp\"].value_counts()"
   ]
  },
  {
   "cell_type": "code",
   "execution_count": 26,
   "id": "61d13595",
   "metadata": {},
   "outputs": [
    {
     "data": {
      "text/plain": [
       "count             204\n",
       "unique            147\n",
       "top       C23 C25 C27\n",
       "freq                4\n",
       "Name: cabin, dtype: object"
      ]
     },
     "execution_count": 26,
     "metadata": {},
     "output_type": "execute_result"
    }
   ],
   "source": [
    "train[\"cabin\"].describe()"
   ]
  },
  {
   "cell_type": "code",
   "execution_count": 27,
   "id": "5868b450",
   "metadata": {},
   "outputs": [],
   "source": [
    "train[\"cabin_first_letter\"] = train[\"cabin\"].apply(lambda x: x if pd.isna(x) else x[:1])"
   ]
  },
  {
   "cell_type": "code",
   "execution_count": 28,
   "id": "96e985a6",
   "metadata": {},
   "outputs": [
    {
     "data": {
      "text/plain": [
       "C    59\n",
       "B    47\n",
       "D    33\n",
       "E    32\n",
       "A    15\n",
       "F    13\n",
       "G     4\n",
       "T     1\n",
       "Name: cabin_first_letter, dtype: int64"
      ]
     },
     "execution_count": 28,
     "metadata": {},
     "output_type": "execute_result"
    }
   ],
   "source": [
    "train[\"cabin_first_letter\"].value_counts()"
   ]
  },
  {
   "cell_type": "code",
   "execution_count": 63,
   "id": "344b2a50",
   "metadata": {},
   "outputs": [
    {
     "data": {
      "text/html": [
       "<div>\n",
       "<style scoped>\n",
       "    .dataframe tbody tr th:only-of-type {\n",
       "        vertical-align: middle;\n",
       "    }\n",
       "\n",
       "    .dataframe tbody tr th {\n",
       "        vertical-align: top;\n",
       "    }\n",
       "\n",
       "    .dataframe thead th {\n",
       "        text-align: right;\n",
       "    }\n",
       "</style>\n",
       "<table border=\"1\" class=\"dataframe\">\n",
       "  <thead>\n",
       "    <tr style=\"text-align: right;\">\n",
       "      <th></th>\n",
       "      <th>count</th>\n",
       "      <th>mean</th>\n",
       "      <th>std</th>\n",
       "      <th>min</th>\n",
       "      <th>25%</th>\n",
       "      <th>50%</th>\n",
       "      <th>75%</th>\n",
       "      <th>max</th>\n",
       "    </tr>\n",
       "    <tr>\n",
       "      <th>cabin_first_letter</th>\n",
       "      <th></th>\n",
       "      <th></th>\n",
       "      <th></th>\n",
       "      <th></th>\n",
       "      <th></th>\n",
       "      <th></th>\n",
       "      <th></th>\n",
       "      <th></th>\n",
       "    </tr>\n",
       "  </thead>\n",
       "  <tbody>\n",
       "    <tr>\n",
       "      <th>A</th>\n",
       "      <td>15.0</td>\n",
       "      <td>0.466667</td>\n",
       "      <td>0.516398</td>\n",
       "      <td>0.0</td>\n",
       "      <td>0.00</td>\n",
       "      <td>0.0</td>\n",
       "      <td>1.0</td>\n",
       "      <td>1.0</td>\n",
       "    </tr>\n",
       "    <tr>\n",
       "      <th>B</th>\n",
       "      <td>47.0</td>\n",
       "      <td>0.744681</td>\n",
       "      <td>0.440755</td>\n",
       "      <td>0.0</td>\n",
       "      <td>0.50</td>\n",
       "      <td>1.0</td>\n",
       "      <td>1.0</td>\n",
       "      <td>1.0</td>\n",
       "    </tr>\n",
       "    <tr>\n",
       "      <th>C</th>\n",
       "      <td>59.0</td>\n",
       "      <td>0.593220</td>\n",
       "      <td>0.495450</td>\n",
       "      <td>0.0</td>\n",
       "      <td>0.00</td>\n",
       "      <td>1.0</td>\n",
       "      <td>1.0</td>\n",
       "      <td>1.0</td>\n",
       "    </tr>\n",
       "    <tr>\n",
       "      <th>D</th>\n",
       "      <td>33.0</td>\n",
       "      <td>0.757576</td>\n",
       "      <td>0.435194</td>\n",
       "      <td>0.0</td>\n",
       "      <td>1.00</td>\n",
       "      <td>1.0</td>\n",
       "      <td>1.0</td>\n",
       "      <td>1.0</td>\n",
       "    </tr>\n",
       "    <tr>\n",
       "      <th>E</th>\n",
       "      <td>32.0</td>\n",
       "      <td>0.750000</td>\n",
       "      <td>0.439941</td>\n",
       "      <td>0.0</td>\n",
       "      <td>0.75</td>\n",
       "      <td>1.0</td>\n",
       "      <td>1.0</td>\n",
       "      <td>1.0</td>\n",
       "    </tr>\n",
       "    <tr>\n",
       "      <th>F</th>\n",
       "      <td>13.0</td>\n",
       "      <td>0.615385</td>\n",
       "      <td>0.506370</td>\n",
       "      <td>0.0</td>\n",
       "      <td>0.00</td>\n",
       "      <td>1.0</td>\n",
       "      <td>1.0</td>\n",
       "      <td>1.0</td>\n",
       "    </tr>\n",
       "    <tr>\n",
       "      <th>G</th>\n",
       "      <td>4.0</td>\n",
       "      <td>0.500000</td>\n",
       "      <td>0.577350</td>\n",
       "      <td>0.0</td>\n",
       "      <td>0.00</td>\n",
       "      <td>0.5</td>\n",
       "      <td>1.0</td>\n",
       "      <td>1.0</td>\n",
       "    </tr>\n",
       "    <tr>\n",
       "      <th>T</th>\n",
       "      <td>1.0</td>\n",
       "      <td>0.000000</td>\n",
       "      <td>NaN</td>\n",
       "      <td>0.0</td>\n",
       "      <td>0.00</td>\n",
       "      <td>0.0</td>\n",
       "      <td>0.0</td>\n",
       "      <td>0.0</td>\n",
       "    </tr>\n",
       "  </tbody>\n",
       "</table>\n",
       "</div>"
      ],
      "text/plain": [
       "                    count      mean       std  min   25%  50%  75%  max\n",
       "cabin_first_letter                                                     \n",
       "A                    15.0  0.466667  0.516398  0.0  0.00  0.0  1.0  1.0\n",
       "B                    47.0  0.744681  0.440755  0.0  0.50  1.0  1.0  1.0\n",
       "C                    59.0  0.593220  0.495450  0.0  0.00  1.0  1.0  1.0\n",
       "D                    33.0  0.757576  0.435194  0.0  1.00  1.0  1.0  1.0\n",
       "E                    32.0  0.750000  0.439941  0.0  0.75  1.0  1.0  1.0\n",
       "F                    13.0  0.615385  0.506370  0.0  0.00  1.0  1.0  1.0\n",
       "G                     4.0  0.500000  0.577350  0.0  0.00  0.5  1.0  1.0\n",
       "T                     1.0  0.000000       NaN  0.0  0.00  0.0  0.0  0.0"
      ]
     },
     "execution_count": 63,
     "metadata": {},
     "output_type": "execute_result"
    }
   ],
   "source": [
    "# look at the servival rate for each cabin\n",
    "train.groupby(\"cabin_first_letter\")[\"survived\"].describe()"
   ]
  },
  {
   "cell_type": "code",
   "execution_count": 29,
   "id": "a844f92d",
   "metadata": {},
   "outputs": [
    {
     "data": {
      "text/plain": [
       "Index(['passengerid', 'survived', 'pclass', 'name', 'sex', 'age', 'sibsp',\n",
       "       'parch', 'ticket', 'fare', 'cabin', 'embarked', 'fist_name',\n",
       "       'rest_name', 'title', 'last_name', 'other', 'age_group',\n",
       "       'age_group_number', 'age_group_str', 'cabin_first_letter'],\n",
       "      dtype='object')"
      ]
     },
     "execution_count": 29,
     "metadata": {},
     "output_type": "execute_result"
    }
   ],
   "source": [
    "train.columns"
   ]
  },
  {
   "cell_type": "code",
   "execution_count": 30,
   "id": "7471cf12",
   "metadata": {},
   "outputs": [
    {
     "data": {
      "text/plain": [
       "passengerid             0\n",
       "survived                0\n",
       "pclass                  0\n",
       "name                    0\n",
       "sex                     0\n",
       "age                   177\n",
       "sibsp                   0\n",
       "parch                   0\n",
       "ticket                  0\n",
       "fare                    0\n",
       "cabin                 687\n",
       "embarked                2\n",
       "fist_name               0\n",
       "rest_name               0\n",
       "title                   0\n",
       "last_name               0\n",
       "other                 890\n",
       "age_group             177\n",
       "age_group_number      885\n",
       "age_group_str         891\n",
       "cabin_first_letter    687\n",
       "dtype: int64"
      ]
     },
     "execution_count": 30,
     "metadata": {},
     "output_type": "execute_result"
    }
   ],
   "source": [
    "train.isna().sum()"
   ]
  },
  {
   "cell_type": "code",
   "execution_count": 31,
   "id": "768bec62",
   "metadata": {},
   "outputs": [
    {
     "data": {
      "text/plain": [
       "title\n",
       "Capt            70.000000\n",
       "Col             58.000000\n",
       "Don             40.000000\n",
       "Dr              42.000000\n",
       "Jonkheer        38.000000\n",
       "Lady            48.000000\n",
       "Major           48.500000\n",
       "Master           4.574167\n",
       "Miss            21.773973\n",
       "Mlle            24.000000\n",
       "Mme             24.000000\n",
       "Mr              32.368090\n",
       "Mrs             35.898148\n",
       "Ms              28.000000\n",
       "Rev             43.166667\n",
       "Sir             49.000000\n",
       "the Countess    33.000000\n",
       "Name: age, dtype: float64"
      ]
     },
     "execution_count": 31,
     "metadata": {},
     "output_type": "execute_result"
    }
   ],
   "source": [
    "train.groupby(\"title\")[\"age\"].mean()"
   ]
  },
  {
   "cell_type": "code",
   "execution_count": 32,
   "id": "924d3069",
   "metadata": {},
   "outputs": [],
   "source": [
    "train[\"age\"].fillna(value = train[\"age\"].mean(), inplace = True)"
   ]
  },
  {
   "cell_type": "code",
   "execution_count": 33,
   "id": "e7743c71",
   "metadata": {},
   "outputs": [
    {
     "data": {
      "text/plain": [
       "29.699117647058763"
      ]
     },
     "execution_count": 33,
     "metadata": {},
     "output_type": "execute_result"
    }
   ],
   "source": [
    "train[\"age\"].mean()"
   ]
  },
  {
   "cell_type": "code",
   "execution_count": 34,
   "id": "8a7578f7",
   "metadata": {},
   "outputs": [
    {
     "data": {
      "text/plain": [
       "passengerid             0\n",
       "survived                0\n",
       "pclass                  0\n",
       "name                    0\n",
       "sex                     0\n",
       "age                     0\n",
       "sibsp                   0\n",
       "parch                   0\n",
       "ticket                  0\n",
       "fare                    0\n",
       "cabin                 687\n",
       "embarked                2\n",
       "fist_name               0\n",
       "rest_name               0\n",
       "title                   0\n",
       "last_name               0\n",
       "other                 890\n",
       "age_group             177\n",
       "age_group_number      885\n",
       "age_group_str         891\n",
       "cabin_first_letter    687\n",
       "dtype: int64"
      ]
     },
     "execution_count": 34,
     "metadata": {},
     "output_type": "execute_result"
    }
   ],
   "source": [
    "train.isna().sum()"
   ]
  },
  {
   "cell_type": "code",
   "execution_count": 35,
   "id": "2c9fb340",
   "metadata": {},
   "outputs": [
    {
     "data": {
      "text/plain": [
       "C    59\n",
       "B    47\n",
       "D    33\n",
       "E    32\n",
       "A    15\n",
       "F    13\n",
       "G     4\n",
       "T     1\n",
       "Name: cabin_first_letter, dtype: int64"
      ]
     },
     "execution_count": 35,
     "metadata": {},
     "output_type": "execute_result"
    }
   ],
   "source": [
    "train[\"cabin_first_letter\"].value_counts()"
   ]
  },
  {
   "cell_type": "code",
   "execution_count": 36,
   "id": "51a29467",
   "metadata": {},
   "outputs": [
    {
     "data": {
      "text/plain": [
       "891"
      ]
     },
     "execution_count": 36,
     "metadata": {},
     "output_type": "execute_result"
    }
   ],
   "source": [
    "len(train)"
   ]
  },
  {
   "cell_type": "code",
   "execution_count": null,
   "id": "4fd61e85",
   "metadata": {},
   "outputs": [],
   "source": []
  }
 ],
 "metadata": {
  "jupytext": {
   "formats": "ipynb,py:light"
  },
  "kernelspec": {
   "display_name": "Python 3",
   "language": "python",
   "name": "python3"
  },
  "language_info": {
   "codemirror_mode": {
    "name": "ipython",
    "version": 3
   },
   "file_extension": ".py",
   "mimetype": "text/x-python",
   "name": "python",
   "nbconvert_exporter": "python",
   "pygments_lexer": "ipython3",
   "version": "3.8.8"
  }
 },
 "nbformat": 4,
 "nbformat_minor": 5
}
